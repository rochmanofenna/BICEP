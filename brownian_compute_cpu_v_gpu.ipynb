{
  "nbformat": 4,
  "nbformat_minor": 0,
  "metadata": {
    "colab": {
      "provenance": [],
      "machine_shape": "hm",
      "gpuType": "A100",
      "authorship_tag": "ABX9TyNTBQiFz27l5OntdJSPCVkR",
      "include_colab_link": true
    },
    "kernelspec": {
      "name": "python3",
      "display_name": "Python 3"
    },
    "language_info": {
      "name": "python"
    },
    "accelerator": "GPU"
  },
  "cells": [
    {
      "cell_type": "markdown",
      "metadata": {
        "id": "view-in-github",
        "colab_type": "text"
      },
      "source": [
        "<a href=\"https://colab.research.google.com/github/rochmanofenna/BICEP/blob/main/brownian_compute_cpu_v_gpu.ipynb\" target=\"_parent\"><img src=\"https://colab.research.google.com/assets/colab-badge.svg\" alt=\"Open In Colab\"/></a>"
      ]
    },
    {
      "cell_type": "code",
      "source": [
        "!git clone --depth 1 https://github.com/rochmanofenna/mismatch-trading.git\n",
        "%cd mismatch-trading\n",
        "\n",
        "#clean any leftover caches\n",
        "!find . -type d -name '__pycache__' -exec rm -rf {} +\n",
        "\n",
        "#upgrade pip + wheel\n",
        "!pip install -q --upgrade pip wheel\n",
        "\n",
        "#base requirements (no extra deps)\n",
        "!pip install -q -r requirements/base.txt --no-deps\n",
        "\n",
        "#cpu only PyTorch so ENN tests pass\n",
        "!pip uninstall -y torch torchvision torchaudio\n",
        "!pip install -q torch==2.3.0+cpu torchvision==0.18.0+cpu \\\n",
        "    torchaudio==2.3.0+cpu --extra-index-url https://download.pytorch.org/whl/cpu\n",
        "\n",
        "#gpu & testing tools\n",
        "!pip install -q cupy-cuda12x pytest pytest-asyncio matplotlib"
      ],
      "metadata": {
        "colab": {
          "base_uri": "https://localhost:8080/",
          "height": 0
        },
        "id": "1w8LaFrZSYrr",
        "outputId": "337fc761-a5d3-48ee-91e9-8a38ff56a264"
      },
      "execution_count": 13,
      "outputs": [
        {
          "output_type": "stream",
          "name": "stdout",
          "text": [
            "Cloning into 'mismatch-trading'...\n",
            "remote: Enumerating objects: 92, done.\u001b[K\n",
            "remote: Counting objects: 100% (92/92), done.\u001b[K\n",
            "remote: Compressing objects: 100% (88/88), done.\u001b[K\n",
            "remote: Total 92 (delta 3), reused 79 (delta 1), pack-reused 0 (from 0)\u001b[K\n",
            "Receiving objects: 100% (92/92), 321.32 KiB | 8.24 MiB/s, done.\n",
            "Resolving deltas: 100% (3/3), done.\n",
            "/content/mismatch-trading/mismatch-trading/mismatch-trading\n",
            "Found existing installation: torch 2.3.0+cpu\n",
            "Uninstalling torch-2.3.0+cpu:\n",
            "  Successfully uninstalled torch-2.3.0+cpu\n",
            "Found existing installation: torchvision 0.18.0+cpu\n",
            "Uninstalling torchvision-0.18.0+cpu:\n",
            "  Successfully uninstalled torchvision-0.18.0+cpu\n",
            "Found existing installation: torchaudio 2.3.0+cpu\n",
            "Uninstalling torchaudio-2.3.0+cpu:\n",
            "  Successfully uninstalled torchaudio-2.3.0+cpu\n",
            "\u001b[2K   \u001b[90m━━━━━━━━━━━━━━━━━━━━━━━━━━━━━━━━━━━━━━━━\u001b[0m \u001b[32m3/3\u001b[0m [torchaudio]\n",
            "\u001b[1A\u001b[2K"
          ]
        }
      ]
    },
    {
      "cell_type": "code",
      "source": [
        "!pytest -q --disable-warnings --maxfail=1"
      ],
      "metadata": {
        "colab": {
          "base_uri": "https://localhost:8080/",
          "height": 0
        },
        "id": "nPvAhQ3SSZ6f",
        "outputId": "e3ac5924-10c4-428b-f466-eae3ffbc15e7"
      },
      "execution_count": 14,
      "outputs": [
        {
          "output_type": "stream",
          "name": "stdout",
          "text": [
            "\u001b[32m.\u001b[0m\u001b[32m.\u001b[0m\u001b[32m.\u001b[0m\u001b[32m.\u001b[0m\u001b[32m.\u001b[0m\u001b[32m.\u001b[0m\u001b[32m.\u001b[0m\u001b[32m.\u001b[0m\u001b[32m.\u001b[0m\u001b[32m.\u001b[0m\u001b[32m.\u001b[0m\u001b[32m.\u001b[0m\u001b[32m.\u001b[0m\u001b[32m.\u001b[0m\u001b[32m.\u001b[0m\u001b[32m.\u001b[0m\u001b[32m.\u001b[0m\u001b[32m.\u001b[0m\u001b[32m.\u001b[0m\u001b[32m.\u001b[0m\u001b[32m.\u001b[0m\u001b[32m.\u001b[0m\u001b[32m.\u001b[0m\u001b[32m.\u001b[0m\u001b[32m.\u001b[0m\u001b[32m.\u001b[0m\u001b[32m.\u001b[0m\u001b[32m.\u001b[0m\u001b[32m.\u001b[0m\u001b[32m.\u001b[0m\u001b[32m.\u001b[0m\u001b[32m.\u001b[0m\u001b[32m.\u001b[0m\u001b[32m.\u001b[0m\u001b[32m                                       [100%]\u001b[0m\n",
            "\u001b[32m\u001b[32m\u001b[1m34 passed\u001b[0m\u001b[32m in 4.09s\u001b[0m\u001b[0m\n"
          ]
        }
      ]
    },
    {
      "cell_type": "code",
      "source": [
        "import os, sys, time, importlib\n",
        "import numpy as np\n",
        "import cupy as cp\n",
        "import matplotlib.pyplot as plt\n",
        "\n",
        "#make sure your package is on the Python path\n",
        "repo = \"/content/mismatch-trading\"\n",
        "if repo not in sys.path:\n",
        "    sys.path.append(repo)\n",
        "\n",
        "#bring in bicep brownian motion code\n",
        "import backends.bicep.brownian_motion as bm"
      ],
      "metadata": {
        "id": "xph12Rc6Saqu"
      },
      "execution_count": 15,
      "outputs": []
    },
    {
      "cell_type": "code",
      "source": [
        "def bench_cpu(T, n_steps, n_paths, batch):\n",
        "    \"\"\"Run numpy variant, measure wall-time.\"\"\"\n",
        "    os.environ[\"DISABLE_CUPY\"] = \"1\"\n",
        "    importlib.reload(bm)\n",
        "    t0 = time.perf_counter()\n",
        "    tg, paths = bm.brownian_motion_paths(\n",
        "        T=T,\n",
        "        n_steps=n_steps,\n",
        "        n_paths=n_paths,\n",
        "        batch=batch\n",
        "    )\n",
        "    return time.perf_counter() - t0\n",
        "\n",
        "def bench_gpu(T, n_steps, n_paths, batch):\n",
        "    \"\"\"Run cupy+chunked variant, measure wall-time.\"\"\"\n",
        "    os.environ.pop(\"DISABLE_CUPY\", None)\n",
        "    importlib.reload(bm)\n",
        "    #GPU timer\n",
        "    start, end = cp.cuda.Event(), cp.cuda.Event()\n",
        "    start.record()\n",
        "    tg, paths = bm.brownian_motion_paths(\n",
        "        T=T,\n",
        "        n_steps=n_steps,\n",
        "        n_paths=n_paths,\n",
        "        batch=batch\n",
        "    )\n",
        "    end.record(); end.synchronize()\n",
        "    return float(cp.cuda.get_elapsed_time(start, end) * 1e-3)\n",
        "\n",
        "#sanity check sizes\n",
        "N_PATHS, N_STEPS, BATCH = 10_000, 5_000, 2_000\n",
        "\n",
        "cpu_time = bench_cpu(1.0, N_STEPS//5, N_PATHS//5, max(1, BATCH//5))\n",
        "gpu_time = bench_gpu(1.0, N_STEPS, N_PATHS, BATCH)\n",
        "\n",
        "print(f\"CPU (NumPy) → {cpu_time:.3f}s  shape=({N_PATHS//5},{N_STEPS//5+1})\")\n",
        "print(f\"GPU (CuPy)  → {gpu_time:.3f}s  shape=({N_PATHS   },{N_STEPS   +1})\")\n",
        "print(f\"Speedup     → {cpu_time/gpu_time:.1f}×\")"
      ],
      "metadata": {
        "colab": {
          "base_uri": "https://localhost:8080/",
          "height": 0
        },
        "id": "xQnCNBZXSc13",
        "outputId": "c1499c78-5205-4e07-fcff-512e5e6794bf"
      },
      "execution_count": 16,
      "outputs": [
        {
          "output_type": "stream",
          "name": "stdout",
          "text": [
            "CPU (NumPy) → 0.077s  shape=(2000,1001)\n",
            "GPU (CuPy)  → 0.009s  shape=(10000,5001)\n",
            "Speedup     → 8.5×\n"
          ]
        }
      ]
    },
    {
      "cell_type": "code",
      "source": [
        "#helpers\n",
        "import os, sys, time, importlib\n",
        "import numpy as np\n",
        "import cupy as cp\n",
        "\n",
        "repo = \"/content/mismatch-trading\"\n",
        "if repo not in sys.path:\n",
        "    sys.path.append(repo)\n",
        "import backends.bicep.brownian_motion as bm\n",
        "\n",
        "def bench_cpu(T, n_steps, n_paths, batch):\n",
        "    os.environ[\"DISABLE_CUPY\"] = \"1\"\n",
        "    importlib.reload(bm)\n",
        "    t0 = time.perf_counter()\n",
        "    _, _ = bm.brownian_motion_paths(\n",
        "        T=T, n_steps=n_steps, n_paths=n_paths, batch=batch\n",
        "    )\n",
        "    return time.perf_counter() - t0\n",
        "\n",
        "def bench_gpu_stream(T, n_steps, n_paths, batch):\n",
        "    os.environ.pop(\"DISABLE_CUPY\", None)\n",
        "    importlib.reload(bm)\n",
        "\n",
        "    #memmap host‐side float32\n",
        "    host = np.memmap(\"paths.dat\", mode=\"w+\",\n",
        "                     dtype=np.float32, shape=(n_paths, n_steps+1))\n",
        "\n",
        "    pool = cp.get_default_memory_pool()\n",
        "    start, end = cp.cuda.Event(), cp.cuda.Event()\n",
        "    start.record()\n",
        "\n",
        "    for i in range(0, n_paths, batch):\n",
        "        sz = min(batch, n_paths - i)\n",
        "        chunk = bm.simulate_batch(\n",
        "            T, n_steps, sz, cp,\n",
        "            dir_bias=0.0, var_adj=None\n",
        "        ).astype(cp.float32)\n",
        "        host[i : i+sz, :] = chunk.get()\n",
        "        pool.free_all_blocks()\n",
        "\n",
        "    end.record(); end.synchronize()\n",
        "    return float(cp.cuda.get_elapsed_time(start, end) * 1e-3)\n",
        "\n",
        "\n",
        "#warm‐up\n",
        "_ = bench_gpu_stream(1.0, 1_000, 1_000, 100)\n",
        "_ = bench_cpu(      1.0, 1_000, 1_000, 100)\n",
        "\n",
        "#sweep\n",
        "sizes = [5_000, 10_000, 20_000, 50_000]\n",
        "cpu_times, gpu_times = [], []\n",
        "\n",
        "for N in sizes:\n",
        "    batch = max(1, N // 10)\n",
        "\n",
        "    ct = bench_cpu(1.0, N, N, batch)\n",
        "    gt = bench_gpu_stream(1.0, N, N, batch)\n",
        "\n",
        "    cpu_times.append(ct)\n",
        "    gpu_times.append(gt)\n",
        "    print(f\"N={N:6d}   CPU={ct:6.2f}s   GPU={gt:6.2f}s   Speedup={ct/gt:5.1f}×\")"
      ],
      "metadata": {
        "colab": {
          "base_uri": "https://localhost:8080/",
          "height": 0
        },
        "id": "DsQRjqLPT72E",
        "outputId": "fad78206-eea7-4f2f-ad43-ca721a967fea"
      },
      "execution_count": 19,
      "outputs": [
        {
          "output_type": "stream",
          "name": "stdout",
          "text": [
            "N=  5000   CPU=  0.96s   GPU=  0.12s   Speedup=  8.0×\n",
            "N= 10000   CPU=  4.06s   GPU=  0.52s   Speedup=  7.8×\n",
            "N= 20000   CPU= 16.12s   GPU=  3.02s   Speedup=  5.3×\n",
            "N= 50000   CPU=102.13s   GPU= 28.01s   Speedup=  3.6×\n"
          ]
        }
      ]
    },
    {
      "cell_type": "code",
      "source": [
        "n_paths, n_steps = 10_000, 5_000\n",
        "batches = [500, 1_000, 2_000, 5_000]\n",
        "\n",
        "gpu_bt = [bench_gpu(1.0, n_steps, n_paths, b) for b in batches]\n",
        "cpu_bt = [bench_cpu(1.0, n_steps, n_paths, b) for b in batches]\n",
        "\n",
        "plt.figure(figsize=(7,5))\n",
        "plt.plot(batches, gpu_bt, '-o', label='GPU (CuPy)')\n",
        "plt.plot(batches, cpu_bt, '-s', label='CPU (NumPy)')\n",
        "plt.xscale('log'); plt.yscale('log')\n",
        "plt.xlabel('Batch size'); plt.ylabel('wall-time (s)')\n",
        "plt.title('BICEP Brownian Motion: Batch-size Impact')\n",
        "plt.legend(); plt.grid(True)\n",
        "plt.show()"
      ],
      "metadata": {
        "colab": {
          "base_uri": "https://localhost:8080/",
          "height": 492
        },
        "id": "NYMY_xBFSfXN",
        "outputId": "38668136-a5a7-49da-c6ec-c3f91ed2dac4"
      },
      "execution_count": 20,
      "outputs": [
        {
          "output_type": "display_data",
          "data": {
            "text/plain": [
              "<Figure size 700x500 with 1 Axes>"
            ],
            "image/png": "[encoded data removed]"
          },
          "metadata": {}
        }
      ]
    },
    {
      "cell_type": "code",
      "source": [
        "import os, sys, time, importlib\n",
        "import numpy as np\n",
        "import cupy as cp\n",
        "\n",
        "#add your repo to the path\n",
        "repo = \"/content/mismatch-trading\"\n",
        "if repo not in sys.path:\n",
        "    sys.path.append(repo)\n",
        "import backends.bicep.brownian_motion as bm\n",
        "\n",
        "def bench_gpu_stream32(T, n_steps, n_paths, batch):\n",
        "    #make sure CuPy is active\n",
        "    os.environ.pop(\"DISABLE_CUPY\", None)\n",
        "    importlib.reload(bm)\n",
        "\n",
        "    #host memmap for float32\n",
        "    host = np.memmap(\n",
        "        \"paths.dat\", mode=\"w+\",\n",
        "        dtype=np.float32,\n",
        "        shape=(n_paths, n_steps + 1)\n",
        "    )\n",
        "\n",
        "    #device memory pool\n",
        "    pool = cp.get_default_memory_pool()\n",
        "    start_evt, end_evt = cp.cuda.Event(), cp.cuda.Event()\n",
        "    start_evt.record()\n",
        "\n",
        "    #precompute sqrt(dt) in float32\n",
        "    dt32 = np.float32(T / n_steps)\n",
        "    sqrt_dt = cp.float32(np.sqrt(dt32))\n",
        "\n",
        "    for i in range(0, n_paths, batch):\n",
        "        sz = min(batch, n_paths - i)\n",
        "\n",
        "        #allocate one float32 buffer and fill *in place*\n",
        "        inc = cp.empty((sz, n_steps), dtype=cp.float32)\n",
        "        # CuPy’s Generator.normal currently doesn’t support out=,\n",
        "        # so we do two steps—but both remain float32:\n",
        "        cp.random.default_rng().standard_normal(\n",
        "            size=(sz, n_steps),\n",
        "            dtype=cp.float32,\n",
        "            out=inc\n",
        "        )\n",
        "        #scale in-place\n",
        "        inc *= sqrt_dt\n",
        "\n",
        "        #cumsum into a second float32 buffer\n",
        "        chunk = cp.empty((sz, n_steps + 1), dtype=cp.float32)\n",
        "        chunk[:, 0] = 0\n",
        "        cp.cumsum(inc, axis=1, out=chunk[:, 1:])\n",
        "\n",
        "        #stream back to host\n",
        "        host[i : i + sz] = chunk.get()\n",
        "\n",
        "        #free everything before next iteration\n",
        "        pool.free_all_blocks()\n",
        "\n",
        "    end_evt.record()\n",
        "    end_evt.synchronize()\n",
        "\n",
        "    elapsed = float(cp.cuda.get_elapsed_time(start_evt, end_evt) * 1e-3)\n",
        "    return elapsed, host\n",
        "\n",
        "N_PATHS, N_STEPS = 100_000, 150_000\n",
        "\n",
        "BATCH = 5_000\n",
        "\n",
        "gpu_time, gpu_paths = bench_gpu_stream32(1.0, N_STEPS, N_PATHS, BATCH)\n",
        "print(f\"GPU stream32 → {gpu_time:.2f}s, shape={gpu_paths.shape}\")"
      ],
      "metadata": {
        "colab": {
          "base_uri": "https://localhost:8080/",
          "height": 0
        },
        "id": "zhBgp8sZSgmi",
        "outputId": "e4eb3415-2128-44f5-de3b-085316bed968"
      },
      "execution_count": 23,
      "outputs": [
        {
          "output_type": "stream",
          "name": "stdout",
          "text": [
            "GPU stream32 → 176.79s, shape=(100000, 150001)\n"
          ]
        }
      ]
    }
  ]
}